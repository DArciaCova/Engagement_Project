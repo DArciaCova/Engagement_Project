{
 "cells": [
  {
   "cell_type": "markdown",
   "id": "2943eb7e",
   "metadata": {},
   "source": [
    "<h2 style=\"text-align: center;\"><strong> Pipeline de Métricas para Visualizaciones Looker.S - FERIVA   </strong></h2>\n",
    "\n",
    "<div style=\"height: 6px; display: flex; margin-bottom: 12px;\">\n",
    "  <div style=\"flex: 1; background-color: orange;\"></div>\n",
    "  <div style=\"flex: 1; background-color: violet;\"></div>\n",
    "  <div style=\"flex: 1; background-color: #006666;\"></div>\n",
    "</div>\n"
   ]
  },
  {
   "cell_type": "markdown",
   "id": "599d3138",
   "metadata": {},
   "source": [
    "## Carga de **Social Media Engagement Dataset** luego del ETL\n",
    "<hr style=\"border: none; height: 5px; background-color: Orange;\">\n",
    "\n"
   ]
  },
  {
   "cell_type": "code",
   "execution_count": 2,
   "id": "77b38c34",
   "metadata": {},
   "outputs": [
    {
     "data": {
      "application/vnd.microsoft.datawrangler.viewer.v0+json": {
       "columns": [
        {
         "name": "index",
         "rawType": "int64",
         "type": "integer"
        },
        {
         "name": "post_id",
         "rawType": "object",
         "type": "string"
        },
        {
         "name": "timestamp",
         "rawType": "object",
         "type": "string"
        },
        {
         "name": "day_of_week",
         "rawType": "object",
         "type": "string"
        },
        {
         "name": "platform",
         "rawType": "object",
         "type": "string"
        },
        {
         "name": "user_id",
         "rawType": "object",
         "type": "string"
        },
        {
         "name": "language",
         "rawType": "object",
         "type": "string"
        },
        {
         "name": "text_content",
         "rawType": "object",
         "type": "string"
        },
        {
         "name": "hashtags",
         "rawType": "object",
         "type": "string"
        },
        {
         "name": "mentions",
         "rawType": "object",
         "type": "unknown"
        },
        {
         "name": "keywords",
         "rawType": "object",
         "type": "string"
        },
        {
         "name": "topic_category",
         "rawType": "object",
         "type": "string"
        },
        {
         "name": "sentiment_score",
         "rawType": "float64",
         "type": "float"
        },
        {
         "name": "sentiment_label",
         "rawType": "object",
         "type": "string"
        },
        {
         "name": "emotion_type",
         "rawType": "object",
         "type": "string"
        },
        {
         "name": "toxicity_score",
         "rawType": "float64",
         "type": "float"
        },
        {
         "name": "likes_count",
         "rawType": "int64",
         "type": "integer"
        },
        {
         "name": "shares_count",
         "rawType": "int64",
         "type": "integer"
        },
        {
         "name": "comments_count",
         "rawType": "int64",
         "type": "integer"
        },
        {
         "name": "impressions",
         "rawType": "int64",
         "type": "integer"
        },
        {
         "name": "engagement_rate",
         "rawType": "float64",
         "type": "float"
        },
        {
         "name": "brand_name",
         "rawType": "object",
         "type": "string"
        },
        {
         "name": "product_name",
         "rawType": "object",
         "type": "string"
        },
        {
         "name": "campaign_name",
         "rawType": "object",
         "type": "string"
        },
        {
         "name": "campaign_phase",
         "rawType": "object",
         "type": "string"
        },
        {
         "name": "user_past_sentiment_avg",
         "rawType": "float64",
         "type": "float"
        },
        {
         "name": "user_engagement_growth",
         "rawType": "float64",
         "type": "float"
        },
        {
         "name": "buzz_change_rate",
         "rawType": "float64",
         "type": "float"
        },
        {
         "name": "city",
         "rawType": "object",
         "type": "string"
        },
        {
         "name": "country",
         "rawType": "object",
         "type": "string"
        }
       ],
       "ref": "1f8a6545-4e1a-4a4d-9379-9d53fec3f4c1",
       "rows": [
        [
         "0",
         "kcqbs6hxybia",
         "2024-12-09 11:26:15",
         "Monday",
         "Instagram",
         "user_52nwb0a6",
         "POR",
         "Just tried the Chromebook from Google. Best purchase ever. #Food Really interested in hearing your thoughts!",
         "#food",
         null,
         "price, unique, traditional, efficient",
         "Pricing",
         "0.9826",
         "Positive",
         "Confused",
         "0.0376",
         "1264",
         "1704",
         "701",
         "18991",
         "0.19319",
         "Google",
         "Chromebook",
         "BlackFriday",
         "Launch",
         "0.0953",
         "-0.3672",
         "19.1",
         "Melbourne",
         "Australia"
        ],
        [
         "1",
         "vkmervg4ioos",
         "2024-07-28 19:59:26",
         "Sunday",
         "Twitter",
         "user_ucryct98",
         "RUS",
         "Just saw an ad for Microsoft Surface Laptop during the SpringBlast2025. Not worth the money. #MustHave, #Food",
         "#musthave, #food",
         "@CustomerService, @BrandCEO",
         "delivery, slow",
         "Delivery",
         "-0.3793",
         "Negative",
         "Angry",
         "0.9715",
         "522",
         "1803",
         "359",
         "52764",
         "0.05086",
         "Microsoft",
         "Surface Laptop",
         "PowerRelease",
         "Post-Launch",
         "0.1369",
         "-0.451",
         "-42.6",
         "Tokyo",
         "Japan"
        ],
        [
         "2",
         "c9dkiomowakt",
         "2024-09-05 21:03:01",
         "Thursday",
         "Twitter",
         "user_l1vpox2k",
         "HIN",
         "Just tried the Corolla from Toyota. Absolutely loving it. #Health, #Travel Really interested in hearing your thoughts!",
         "#health, #travel",
         "@BrandSupport, @InfluencerName",
         "innovation, budget, helpful, luxury",
         "Product",
         "0.546",
         "Positive",
         "Happy",
         "0.0862",
         "2005",
         "1443",
         "703",
         "47315",
         "0.08773",
         "Toyota",
         "Corolla",
         "LocalTouchpoints",
         "Launch",
         "0.6867",
         "0.0807",
         "38.8",
         "Berlin",
         "Germany"
        ],
        [
         "3",
         "32qywmjy84gk",
         "2024-08-21 17:02:47",
         "Wednesday",
         "Instagram",
         "user_hpr07vl1",
         "JPN",
         "Not sure why with my new Pepsi Wild Cherry from Pepsi! Not worth the money. #Quality, #Promo, #Limited",
         "#quality, #promo, #limited",
         null,
         "improved, unique, premium, durable",
         "Support",
         "-0.5339",
         "Negative",
         "Confused",
         "0.4716",
         "2814",
         "173",
         "974",
         "24542",
         "0.16139",
         "Pepsi",
         "Pepsi Wild Cherry",
         "GlobalCampaign",
         "Launch",
         "-0.9263",
         "-0.081",
         "-13.4",
         "Madrid",
         "Spain"
        ],
        [
         "4",
         "wu063ci6mizp",
         "2025-01-27 16:09:54",
         "Monday",
         "Reddit",
         "user_2es9a4lv",
         "ESP",
         "Just saw an ad for Coca-Cola Coke Zero during the LaunchWave. Worth every penny. #MustHave, #Discount",
         "#musthave, #discount",
         "@MarketingTeam, @InfluencerName",
         "efficient, innovation, performance",
         "Pricing",
         "0.2034",
         "Positive",
         "Sad",
         "0.7902",
         "531",
         "1989",
         "30",
         "57406",
         "0.04442",
         "Coca-Cola",
         "Coke Zero",
         "CustomerFirst",
         "Post-Launch",
         "-0.9831",
         "0.2152",
         "89.7",
         "São Paulo",
         "Brazil"
        ]
       ],
       "shape": {
        "columns": 29,
        "rows": 5
       }
      },
      "text/html": [
       "<div>\n",
       "<style scoped>\n",
       "    .dataframe tbody tr th:only-of-type {\n",
       "        vertical-align: middle;\n",
       "    }\n",
       "\n",
       "    .dataframe tbody tr th {\n",
       "        vertical-align: top;\n",
       "    }\n",
       "\n",
       "    .dataframe thead th {\n",
       "        text-align: right;\n",
       "    }\n",
       "</style>\n",
       "<table border=\"1\" class=\"dataframe\">\n",
       "  <thead>\n",
       "    <tr style=\"text-align: right;\">\n",
       "      <th></th>\n",
       "      <th>post_id</th>\n",
       "      <th>timestamp</th>\n",
       "      <th>day_of_week</th>\n",
       "      <th>platform</th>\n",
       "      <th>user_id</th>\n",
       "      <th>language</th>\n",
       "      <th>text_content</th>\n",
       "      <th>hashtags</th>\n",
       "      <th>mentions</th>\n",
       "      <th>keywords</th>\n",
       "      <th>...</th>\n",
       "      <th>engagement_rate</th>\n",
       "      <th>brand_name</th>\n",
       "      <th>product_name</th>\n",
       "      <th>campaign_name</th>\n",
       "      <th>campaign_phase</th>\n",
       "      <th>user_past_sentiment_avg</th>\n",
       "      <th>user_engagement_growth</th>\n",
       "      <th>buzz_change_rate</th>\n",
       "      <th>city</th>\n",
       "      <th>country</th>\n",
       "    </tr>\n",
       "  </thead>\n",
       "  <tbody>\n",
       "    <tr>\n",
       "      <th>0</th>\n",
       "      <td>kcqbs6hxybia</td>\n",
       "      <td>2024-12-09 11:26:15</td>\n",
       "      <td>Monday</td>\n",
       "      <td>Instagram</td>\n",
       "      <td>user_52nwb0a6</td>\n",
       "      <td>POR</td>\n",
       "      <td>Just tried the Chromebook from Google. Best pu...</td>\n",
       "      <td>#food</td>\n",
       "      <td>NaN</td>\n",
       "      <td>price, unique, traditional, efficient</td>\n",
       "      <td>...</td>\n",
       "      <td>0.19319</td>\n",
       "      <td>Google</td>\n",
       "      <td>Chromebook</td>\n",
       "      <td>BlackFriday</td>\n",
       "      <td>Launch</td>\n",
       "      <td>0.0953</td>\n",
       "      <td>-0.3672</td>\n",
       "      <td>19.1</td>\n",
       "      <td>Melbourne</td>\n",
       "      <td>Australia</td>\n",
       "    </tr>\n",
       "    <tr>\n",
       "      <th>1</th>\n",
       "      <td>vkmervg4ioos</td>\n",
       "      <td>2024-07-28 19:59:26</td>\n",
       "      <td>Sunday</td>\n",
       "      <td>Twitter</td>\n",
       "      <td>user_ucryct98</td>\n",
       "      <td>RUS</td>\n",
       "      <td>Just saw an ad for Microsoft Surface Laptop du...</td>\n",
       "      <td>#musthave, #food</td>\n",
       "      <td>@CustomerService, @BrandCEO</td>\n",
       "      <td>delivery, slow</td>\n",
       "      <td>...</td>\n",
       "      <td>0.05086</td>\n",
       "      <td>Microsoft</td>\n",
       "      <td>Surface Laptop</td>\n",
       "      <td>PowerRelease</td>\n",
       "      <td>Post-Launch</td>\n",
       "      <td>0.1369</td>\n",
       "      <td>-0.4510</td>\n",
       "      <td>-42.6</td>\n",
       "      <td>Tokyo</td>\n",
       "      <td>Japan</td>\n",
       "    </tr>\n",
       "    <tr>\n",
       "      <th>2</th>\n",
       "      <td>c9dkiomowakt</td>\n",
       "      <td>2024-09-05 21:03:01</td>\n",
       "      <td>Thursday</td>\n",
       "      <td>Twitter</td>\n",
       "      <td>user_l1vpox2k</td>\n",
       "      <td>HIN</td>\n",
       "      <td>Just tried the Corolla from Toyota. Absolutely...</td>\n",
       "      <td>#health, #travel</td>\n",
       "      <td>@BrandSupport, @InfluencerName</td>\n",
       "      <td>innovation, budget, helpful, luxury</td>\n",
       "      <td>...</td>\n",
       "      <td>0.08773</td>\n",
       "      <td>Toyota</td>\n",
       "      <td>Corolla</td>\n",
       "      <td>LocalTouchpoints</td>\n",
       "      <td>Launch</td>\n",
       "      <td>0.6867</td>\n",
       "      <td>0.0807</td>\n",
       "      <td>38.8</td>\n",
       "      <td>Berlin</td>\n",
       "      <td>Germany</td>\n",
       "    </tr>\n",
       "    <tr>\n",
       "      <th>3</th>\n",
       "      <td>32qywmjy84gk</td>\n",
       "      <td>2024-08-21 17:02:47</td>\n",
       "      <td>Wednesday</td>\n",
       "      <td>Instagram</td>\n",
       "      <td>user_hpr07vl1</td>\n",
       "      <td>JPN</td>\n",
       "      <td>Not sure why with my new Pepsi Wild Cherry fro...</td>\n",
       "      <td>#quality, #promo, #limited</td>\n",
       "      <td>NaN</td>\n",
       "      <td>improved, unique, premium, durable</td>\n",
       "      <td>...</td>\n",
       "      <td>0.16139</td>\n",
       "      <td>Pepsi</td>\n",
       "      <td>Pepsi Wild Cherry</td>\n",
       "      <td>GlobalCampaign</td>\n",
       "      <td>Launch</td>\n",
       "      <td>-0.9263</td>\n",
       "      <td>-0.0810</td>\n",
       "      <td>-13.4</td>\n",
       "      <td>Madrid</td>\n",
       "      <td>Spain</td>\n",
       "    </tr>\n",
       "    <tr>\n",
       "      <th>4</th>\n",
       "      <td>wu063ci6mizp</td>\n",
       "      <td>2025-01-27 16:09:54</td>\n",
       "      <td>Monday</td>\n",
       "      <td>Reddit</td>\n",
       "      <td>user_2es9a4lv</td>\n",
       "      <td>ESP</td>\n",
       "      <td>Just saw an ad for Coca-Cola Coke Zero during ...</td>\n",
       "      <td>#musthave, #discount</td>\n",
       "      <td>@MarketingTeam, @InfluencerName</td>\n",
       "      <td>efficient, innovation, performance</td>\n",
       "      <td>...</td>\n",
       "      <td>0.04442</td>\n",
       "      <td>Coca-Cola</td>\n",
       "      <td>Coke Zero</td>\n",
       "      <td>CustomerFirst</td>\n",
       "      <td>Post-Launch</td>\n",
       "      <td>-0.9831</td>\n",
       "      <td>0.2152</td>\n",
       "      <td>89.7</td>\n",
       "      <td>São Paulo</td>\n",
       "      <td>Brazil</td>\n",
       "    </tr>\n",
       "  </tbody>\n",
       "</table>\n",
       "<p>5 rows × 29 columns</p>\n",
       "</div>"
      ],
      "text/plain": [
       "        post_id            timestamp day_of_week   platform        user_id  \\\n",
       "0  kcqbs6hxybia  2024-12-09 11:26:15      Monday  Instagram  user_52nwb0a6   \n",
       "1  vkmervg4ioos  2024-07-28 19:59:26      Sunday    Twitter  user_ucryct98   \n",
       "2  c9dkiomowakt  2024-09-05 21:03:01    Thursday    Twitter  user_l1vpox2k   \n",
       "3  32qywmjy84gk  2024-08-21 17:02:47   Wednesday  Instagram  user_hpr07vl1   \n",
       "4  wu063ci6mizp  2025-01-27 16:09:54      Monday     Reddit  user_2es9a4lv   \n",
       "\n",
       "  language                                       text_content  \\\n",
       "0      POR  Just tried the Chromebook from Google. Best pu...   \n",
       "1      RUS  Just saw an ad for Microsoft Surface Laptop du...   \n",
       "2      HIN  Just tried the Corolla from Toyota. Absolutely...   \n",
       "3      JPN  Not sure why with my new Pepsi Wild Cherry fro...   \n",
       "4      ESP  Just saw an ad for Coca-Cola Coke Zero during ...   \n",
       "\n",
       "                     hashtags                         mentions  \\\n",
       "0                       #food                              NaN   \n",
       "1            #musthave, #food      @CustomerService, @BrandCEO   \n",
       "2            #health, #travel   @BrandSupport, @InfluencerName   \n",
       "3  #quality, #promo, #limited                              NaN   \n",
       "4        #musthave, #discount  @MarketingTeam, @InfluencerName   \n",
       "\n",
       "                                keywords  ... engagement_rate  brand_name  \\\n",
       "0  price, unique, traditional, efficient  ...         0.19319      Google   \n",
       "1                         delivery, slow  ...         0.05086   Microsoft   \n",
       "2    innovation, budget, helpful, luxury  ...         0.08773      Toyota   \n",
       "3     improved, unique, premium, durable  ...         0.16139       Pepsi   \n",
       "4     efficient, innovation, performance  ...         0.04442   Coca-Cola   \n",
       "\n",
       "        product_name     campaign_name  campaign_phase  \\\n",
       "0         Chromebook       BlackFriday          Launch   \n",
       "1     Surface Laptop      PowerRelease     Post-Launch   \n",
       "2            Corolla  LocalTouchpoints          Launch   \n",
       "3  Pepsi Wild Cherry    GlobalCampaign          Launch   \n",
       "4          Coke Zero     CustomerFirst     Post-Launch   \n",
       "\n",
       "   user_past_sentiment_avg  user_engagement_growth  buzz_change_rate  \\\n",
       "0                   0.0953                 -0.3672              19.1   \n",
       "1                   0.1369                 -0.4510             -42.6   \n",
       "2                   0.6867                  0.0807              38.8   \n",
       "3                  -0.9263                 -0.0810             -13.4   \n",
       "4                  -0.9831                  0.2152              89.7   \n",
       "\n",
       "        city    country  \n",
       "0  Melbourne  Australia  \n",
       "1      Tokyo      Japan  \n",
       "2     Berlin    Germany  \n",
       "3     Madrid      Spain  \n",
       "4  São Paulo     Brazil  \n",
       "\n",
       "[5 rows x 29 columns]"
      ]
     },
     "execution_count": 2,
     "metadata": {},
     "output_type": "execute_result"
    }
   ],
   "source": [
    "import pandas as pd\n",
    "\n",
    "# Ruta absoluta al archivo en el Escritorio\n",
    "ruta = r'C:\\Users\\Bruger\\Desktop\\Proyecto Redes\\Dataset REDES\\clean_social_media_dataset.csv'\n",
    "\n",
    "# Carga del dataset\n",
    "df = pd.read_csv(ruta)\n",
    "df.head()\n"
   ]
  },
  {
   "cell_type": "markdown",
   "id": "c1058d4d",
   "metadata": {},
   "source": [
    "## Creación de Métricas **Derivadas de Engagement**\n",
    "<hr style=\"border: none; height: 5px; background-color: Orange;\">\n",
    "\n",
    " Necesarias para descomponer la interacción total en componentes más específicos. Esto permite analizar qué tipo de interacción (likes, comentarios o compartidos) predomina en cada publicación.\n"
   ]
  },
  {
   "cell_type": "code",
   "execution_count": 3,
   "id": "cdc81a4b",
   "metadata": {},
   "outputs": [
    {
     "data": {
      "application/vnd.microsoft.datawrangler.viewer.v0+json": {
       "columns": [
        {
         "name": "index",
         "rawType": "int64",
         "type": "integer"
        },
        {
         "name": "interaction_volume",
         "rawType": "int64",
         "type": "integer"
        },
        {
         "name": "likes_ratio",
         "rawType": "float64",
         "type": "float"
        },
        {
         "name": "comments_ratio",
         "rawType": "float64",
         "type": "float"
        },
        {
         "name": "shares_ratio",
         "rawType": "float64",
         "type": "float"
        }
       ],
       "ref": "93134d90-e9a4-440d-b236-7475d1594058",
       "rows": [
        [
         "0",
         "3669",
         "0.06655784318887895",
         "0.03691222157864252",
         "0.08972671265336211"
        ],
        [
         "1",
         "2684",
         "0.009893108937912213",
         "0.006803881434311273",
         "0.03417102569934046"
        ],
        [
         "2",
         "4151",
         "0.042375568001690796",
         "0.014857867483884603",
         "0.030497727993236818"
        ],
        [
         "3",
         "3961",
         "0.11466058185966914",
         "0.03968706706869856",
         "0.007049140249368429"
        ],
        [
         "4",
         "2550",
         "0.009249904191199526",
         "0.0005225934571299167",
         "0.03464794620771348"
        ]
       ],
       "shape": {
        "columns": 4,
        "rows": 5
       }
      },
      "text/html": [
       "<div>\n",
       "<style scoped>\n",
       "    .dataframe tbody tr th:only-of-type {\n",
       "        vertical-align: middle;\n",
       "    }\n",
       "\n",
       "    .dataframe tbody tr th {\n",
       "        vertical-align: top;\n",
       "    }\n",
       "\n",
       "    .dataframe thead th {\n",
       "        text-align: right;\n",
       "    }\n",
       "</style>\n",
       "<table border=\"1\" class=\"dataframe\">\n",
       "  <thead>\n",
       "    <tr style=\"text-align: right;\">\n",
       "      <th></th>\n",
       "      <th>interaction_volume</th>\n",
       "      <th>likes_ratio</th>\n",
       "      <th>comments_ratio</th>\n",
       "      <th>shares_ratio</th>\n",
       "    </tr>\n",
       "  </thead>\n",
       "  <tbody>\n",
       "    <tr>\n",
       "      <th>0</th>\n",
       "      <td>3669</td>\n",
       "      <td>0.066558</td>\n",
       "      <td>0.036912</td>\n",
       "      <td>0.089727</td>\n",
       "    </tr>\n",
       "    <tr>\n",
       "      <th>1</th>\n",
       "      <td>2684</td>\n",
       "      <td>0.009893</td>\n",
       "      <td>0.006804</td>\n",
       "      <td>0.034171</td>\n",
       "    </tr>\n",
       "    <tr>\n",
       "      <th>2</th>\n",
       "      <td>4151</td>\n",
       "      <td>0.042376</td>\n",
       "      <td>0.014858</td>\n",
       "      <td>0.030498</td>\n",
       "    </tr>\n",
       "    <tr>\n",
       "      <th>3</th>\n",
       "      <td>3961</td>\n",
       "      <td>0.114661</td>\n",
       "      <td>0.039687</td>\n",
       "      <td>0.007049</td>\n",
       "    </tr>\n",
       "    <tr>\n",
       "      <th>4</th>\n",
       "      <td>2550</td>\n",
       "      <td>0.009250</td>\n",
       "      <td>0.000523</td>\n",
       "      <td>0.034648</td>\n",
       "    </tr>\n",
       "  </tbody>\n",
       "</table>\n",
       "</div>"
      ],
      "text/plain": [
       "   interaction_volume  likes_ratio  comments_ratio  shares_ratio\n",
       "0                3669     0.066558        0.036912      0.089727\n",
       "1                2684     0.009893        0.006804      0.034171\n",
       "2                4151     0.042376        0.014858      0.030498\n",
       "3                3961     0.114661        0.039687      0.007049\n",
       "4                2550     0.009250        0.000523      0.034648"
      ]
     },
     "execution_count": 3,
     "metadata": {},
     "output_type": "execute_result"
    }
   ],
   "source": [
    "# Volumen total de interacciones\n",
    "df['interaction_volume'] = df['likes_count'] + df['shares_count'] + df['comments_count']\n",
    "\n",
    "# Proporción de likes, comentarios y compartidos sobre impresiones\n",
    "df['likes_ratio'] = df['likes_count'] / df['impressions']\n",
    "df['comments_ratio'] = df['comments_count'] / df['impressions']\n",
    "df['shares_ratio'] = df['shares_count'] / df['impressions']\n",
    "\n",
    "# Verificar que las columnas se hayan creado correctamente\n",
    "df[['interaction_volume', 'likes_ratio', 'comments_ratio', 'shares_ratio']].head()\n",
    "\n"
   ]
  },
  {
   "cell_type": "markdown",
   "id": "266c2e08",
   "metadata": {},
   "source": [
    "##  Creación de métricas **Temporales**\n",
    "<hr style=\"border: none; height: 5px; background-color: Violet;\">\n",
    "\n",
    "Se generan columnas derivadas de la variable `timestamp` para analizar patrones temporales. Estas métricas permiten identificar comportamientos según la hora del día, el mes o si la publicación ocurrió en fin de semana."
   ]
  },
  {
   "cell_type": "code",
   "execution_count": 4,
   "id": "5f479657",
   "metadata": {},
   "outputs": [
    {
     "data": {
      "application/vnd.microsoft.datawrangler.viewer.v0+json": {
       "columns": [
        {
         "name": "index",
         "rawType": "int64",
         "type": "integer"
        },
        {
         "name": "timestamp",
         "rawType": "datetime64[ns]",
         "type": "datetime"
        },
        {
         "name": "hour_of_day",
         "rawType": "int32",
         "type": "integer"
        },
        {
         "name": "month",
         "rawType": "int32",
         "type": "integer"
        },
        {
         "name": "year",
         "rawType": "int32",
         "type": "integer"
        },
        {
         "name": "is_weekend",
         "rawType": "bool",
         "type": "boolean"
        }
       ],
       "ref": "3eac0d7a-c4d6-4a33-84de-92b17a98d6f8",
       "rows": [
        [
         "1698",
         "2024-05-21 07:09:46",
         "7",
         "5",
         "2024",
         "False"
        ],
        [
         "2517",
         "2024-07-28 13:15:14",
         "13",
         "7",
         "2024",
         "True"
        ],
        [
         "8679",
         "2024-08-12 03:39:55",
         "3",
         "8",
         "2024",
         "False"
        ],
        [
         "6885",
         "2025-03-18 20:14:05",
         "20",
         "3",
         "2025",
         "False"
        ],
        [
         "2868",
         "2025-01-10 03:25:59",
         "3",
         "1",
         "2025",
         "False"
        ]
       ],
       "shape": {
        "columns": 5,
        "rows": 5
       }
      },
      "text/html": [
       "<div>\n",
       "<style scoped>\n",
       "    .dataframe tbody tr th:only-of-type {\n",
       "        vertical-align: middle;\n",
       "    }\n",
       "\n",
       "    .dataframe tbody tr th {\n",
       "        vertical-align: top;\n",
       "    }\n",
       "\n",
       "    .dataframe thead th {\n",
       "        text-align: right;\n",
       "    }\n",
       "</style>\n",
       "<table border=\"1\" class=\"dataframe\">\n",
       "  <thead>\n",
       "    <tr style=\"text-align: right;\">\n",
       "      <th></th>\n",
       "      <th>timestamp</th>\n",
       "      <th>hour_of_day</th>\n",
       "      <th>month</th>\n",
       "      <th>year</th>\n",
       "      <th>is_weekend</th>\n",
       "    </tr>\n",
       "  </thead>\n",
       "  <tbody>\n",
       "    <tr>\n",
       "      <th>1698</th>\n",
       "      <td>2024-05-21 07:09:46</td>\n",
       "      <td>7</td>\n",
       "      <td>5</td>\n",
       "      <td>2024</td>\n",
       "      <td>False</td>\n",
       "    </tr>\n",
       "    <tr>\n",
       "      <th>2517</th>\n",
       "      <td>2024-07-28 13:15:14</td>\n",
       "      <td>13</td>\n",
       "      <td>7</td>\n",
       "      <td>2024</td>\n",
       "      <td>True</td>\n",
       "    </tr>\n",
       "    <tr>\n",
       "      <th>8679</th>\n",
       "      <td>2024-08-12 03:39:55</td>\n",
       "      <td>3</td>\n",
       "      <td>8</td>\n",
       "      <td>2024</td>\n",
       "      <td>False</td>\n",
       "    </tr>\n",
       "    <tr>\n",
       "      <th>6885</th>\n",
       "      <td>2025-03-18 20:14:05</td>\n",
       "      <td>20</td>\n",
       "      <td>3</td>\n",
       "      <td>2025</td>\n",
       "      <td>False</td>\n",
       "    </tr>\n",
       "    <tr>\n",
       "      <th>2868</th>\n",
       "      <td>2025-01-10 03:25:59</td>\n",
       "      <td>3</td>\n",
       "      <td>1</td>\n",
       "      <td>2025</td>\n",
       "      <td>False</td>\n",
       "    </tr>\n",
       "  </tbody>\n",
       "</table>\n",
       "</div>"
      ],
      "text/plain": [
       "               timestamp  hour_of_day  month  year  is_weekend\n",
       "1698 2024-05-21 07:09:46            7      5  2024       False\n",
       "2517 2024-07-28 13:15:14           13      7  2024        True\n",
       "8679 2024-08-12 03:39:55            3      8  2024       False\n",
       "6885 2025-03-18 20:14:05           20      3  2025       False\n",
       "2868 2025-01-10 03:25:59            3      1  2025       False"
      ]
     },
     "execution_count": 4,
     "metadata": {},
     "output_type": "execute_result"
    }
   ],
   "source": [
    "# Asegurarse de que la columna timestamp esté en formato datetime\n",
    "df['timestamp'] = pd.to_datetime(df['timestamp'])\n",
    "\n",
    "# Extraer hora del día\n",
    "df['hour_of_day'] = df['timestamp'].dt.hour\n",
    "\n",
    "# Extraer mes\n",
    "df['month'] = df['timestamp'].dt.month\n",
    "\n",
    "# Extraer año\n",
    "df['year'] = df['timestamp'].dt.year\n",
    "\n",
    "# Verificar si el día es fin de semana\n",
    "df['is_weekend'] = df['day_of_week'].isin(['Saturday', 'Sunday'])\n",
    "\n",
    "# Verificamos que las columnas se hayan creado correctamente\n",
    "df[['timestamp', 'hour_of_day', 'month', 'year', 'is_weekend']].sample(5)\n",
    "\n"
   ]
  },
  {
   "cell_type": "markdown",
   "id": "1f6865d9",
   "metadata": {},
   "source": [
    "## Creación de métricas de **Contenido**\n",
    "<hr style=\"border: none; height: 5px; background-color: Violet;\">\n",
    "\n",
    "\n",
    "##### Se generan métricas relacionadas con el contenido textual de las publicaciones. Estas variables permiten analizar la longitud del texto, la presencia de hashtags o menciones, y la cantidad de palabras clave asociadas a cada post.\n",
    "\n"
   ]
  },
  {
   "cell_type": "code",
   "execution_count": 5,
   "id": "1e017ad7",
   "metadata": {},
   "outputs": [
    {
     "data": {
      "application/vnd.microsoft.datawrangler.viewer.v0+json": {
       "columns": [
        {
         "name": "index",
         "rawType": "int64",
         "type": "integer"
        },
        {
         "name": "text_length",
         "rawType": "int64",
         "type": "integer"
        },
        {
         "name": "has_hashtags",
         "rawType": "bool",
         "type": "boolean"
        },
        {
         "name": "has_mentions",
         "rawType": "bool",
         "type": "boolean"
        },
        {
         "name": "num_keywords",
         "rawType": "int64",
         "type": "integer"
        }
       ],
       "ref": "873d2e69-73cf-44c3-8b8d-f83375cbb6b4",
       "rows": [
        [
         "9906",
         "125",
         "True",
         "True",
         "3"
        ],
        [
         "3034",
         "131",
         "True",
         "True",
         "2"
        ],
        [
         "889",
         "97",
         "True",
         "True",
         "2"
        ],
        [
         "4579",
         "93",
         "True",
         "True",
         "2"
        ],
        [
         "805",
         "125",
         "True",
         "True",
         "2"
        ]
       ],
       "shape": {
        "columns": 4,
        "rows": 5
       }
      },
      "text/html": [
       "<div>\n",
       "<style scoped>\n",
       "    .dataframe tbody tr th:only-of-type {\n",
       "        vertical-align: middle;\n",
       "    }\n",
       "\n",
       "    .dataframe tbody tr th {\n",
       "        vertical-align: top;\n",
       "    }\n",
       "\n",
       "    .dataframe thead th {\n",
       "        text-align: right;\n",
       "    }\n",
       "</style>\n",
       "<table border=\"1\" class=\"dataframe\">\n",
       "  <thead>\n",
       "    <tr style=\"text-align: right;\">\n",
       "      <th></th>\n",
       "      <th>text_length</th>\n",
       "      <th>has_hashtags</th>\n",
       "      <th>has_mentions</th>\n",
       "      <th>num_keywords</th>\n",
       "    </tr>\n",
       "  </thead>\n",
       "  <tbody>\n",
       "    <tr>\n",
       "      <th>9906</th>\n",
       "      <td>125</td>\n",
       "      <td>True</td>\n",
       "      <td>True</td>\n",
       "      <td>3</td>\n",
       "    </tr>\n",
       "    <tr>\n",
       "      <th>3034</th>\n",
       "      <td>131</td>\n",
       "      <td>True</td>\n",
       "      <td>True</td>\n",
       "      <td>2</td>\n",
       "    </tr>\n",
       "    <tr>\n",
       "      <th>889</th>\n",
       "      <td>97</td>\n",
       "      <td>True</td>\n",
       "      <td>True</td>\n",
       "      <td>2</td>\n",
       "    </tr>\n",
       "    <tr>\n",
       "      <th>4579</th>\n",
       "      <td>93</td>\n",
       "      <td>True</td>\n",
       "      <td>True</td>\n",
       "      <td>2</td>\n",
       "    </tr>\n",
       "    <tr>\n",
       "      <th>805</th>\n",
       "      <td>125</td>\n",
       "      <td>True</td>\n",
       "      <td>True</td>\n",
       "      <td>2</td>\n",
       "    </tr>\n",
       "  </tbody>\n",
       "</table>\n",
       "</div>"
      ],
      "text/plain": [
       "      text_length  has_hashtags  has_mentions  num_keywords\n",
       "9906          125          True          True             3\n",
       "3034          131          True          True             2\n",
       "889            97          True          True             2\n",
       "4579           93          True          True             2\n",
       "805           125          True          True             2"
      ]
     },
     "execution_count": 5,
     "metadata": {},
     "output_type": "execute_result"
    }
   ],
   "source": [
    "# Longitud del texto de la publicación\n",
    "df['text_length'] = df['text_content'].str.len()\n",
    "\n",
    "# Presencia de hashtags\n",
    "df['has_hashtags'] = df['hashtags'].apply(lambda x: bool(str(x).strip()))\n",
    "\n",
    "# Presencia de menciones\n",
    "df['has_mentions'] = df['mentions'].apply(lambda x: bool(str(x).strip()))\n",
    "\n",
    "# Cantidad de palabras clave asociadas\n",
    "df['num_keywords'] = df['keywords'].apply(lambda x: len(str(x).split(',')) if pd.notnull(x) else 0)\n",
    "\n",
    "# Verificamos que las columnas se hayan creado correctamente\n",
    "df[['text_length', 'has_hashtags', 'has_mentions', 'num_keywords']].sample(5)\n"
   ]
  },
  {
   "cell_type": "markdown",
   "id": "8ee12245",
   "metadata": {},
   "source": [
    "## Categorización de **Crecimiento y Buzz**\n",
    "<hr style=\"border: none; height: 5px; background-color: Violet;\">\n",
    "\n",
    "\n",
    "##### Se clasifica el crecimiento del engagement en niveles (bajo, medio, alto) para facilitar el análisis comparativo. Esta categorización permite identificar publicaciones con alto impacto relativo y detectar patrones de viralidad o buzz.\n",
    "\n"
   ]
  },
  {
   "cell_type": "code",
   "execution_count": 6,
   "id": "ee6e3ba1",
   "metadata": {},
   "outputs": [
    {
     "data": {
      "application/vnd.microsoft.datawrangler.viewer.v0+json": {
       "columns": [
        {
         "name": "growth_level",
         "rawType": "category",
         "type": "unknown"
        },
        {
         "name": "count",
         "rawType": "int64",
         "type": "integer"
        }
       ],
       "ref": "c360722e-44f0-4bc8-a960-1edccebe6bd6",
       "rows": [
        [
         "Bajo",
         "3503"
        ],
        [
         "Alto",
         "3502"
        ],
        [
         "Medio",
         "3501"
        ]
       ],
       "shape": {
        "columns": 1,
        "rows": 3
       }
      },
      "text/plain": [
       "growth_level\n",
       "Bajo     3503\n",
       "Alto     3502\n",
       "Medio    3501\n",
       "Name: count, dtype: int64"
      ]
     },
     "execution_count": 6,
     "metadata": {},
     "output_type": "execute_result"
    }
   ],
   "source": [
    "# Clasificación del crecimiento de engagement en terciles\n",
    "df['growth_level'] = pd.qcut(df['user_engagement_growth'], q=3, labels=['Bajo', 'Medio', 'Alto'])\n",
    "\n",
    "# Verificamos la distribución de niveles de crecimiento\n",
    "df['growth_level'].value_counts()\n"
   ]
  },
  {
   "cell_type": "markdown",
   "id": "dd5ba9a6",
   "metadata": {},
   "source": [
    "## Revisión del dataset \n",
    "<hr style=\"border: none; height: 5px; background-color: #006666;\">\n",
    "\n"
   ]
  },
  {
   "cell_type": "code",
   "execution_count": 7,
   "id": "818fb5a5",
   "metadata": {},
   "outputs": [
    {
     "name": "stdout",
     "output_type": "stream",
     "text": [
      "<class 'pandas.core.frame.DataFrame'>\n",
      "RangeIndex: 10506 entries, 0 to 10505\n",
      "Data columns (total 42 columns):\n",
      " #   Column                   Non-Null Count  Dtype         \n",
      "---  ------                   --------------  -----         \n",
      " 0   post_id                  10506 non-null  object        \n",
      " 1   timestamp                10506 non-null  datetime64[ns]\n",
      " 2   day_of_week              10506 non-null  object        \n",
      " 3   platform                 10506 non-null  object        \n",
      " 4   user_id                  10506 non-null  object        \n",
      " 5   language                 10506 non-null  object        \n",
      " 6   text_content             10506 non-null  object        \n",
      " 7   hashtags                 10506 non-null  object        \n",
      " 8   mentions                 7054 non-null   object        \n",
      " 9   keywords                 10506 non-null  object        \n",
      " 10  topic_category           10506 non-null  object        \n",
      " 11  sentiment_score          10506 non-null  float64       \n",
      " 12  sentiment_label          10506 non-null  object        \n",
      " 13  emotion_type             10506 non-null  object        \n",
      " 14  toxicity_score           10506 non-null  float64       \n",
      " 15  likes_count              10506 non-null  int64         \n",
      " 16  shares_count             10506 non-null  int64         \n",
      " 17  comments_count           10506 non-null  int64         \n",
      " 18  impressions              10506 non-null  int64         \n",
      " 19  engagement_rate          10506 non-null  float64       \n",
      " 20  brand_name               10506 non-null  object        \n",
      " 21  product_name             10506 non-null  object        \n",
      " 22  campaign_name            10506 non-null  object        \n",
      " 23  campaign_phase           10506 non-null  object        \n",
      " 24  user_past_sentiment_avg  10506 non-null  float64       \n",
      " 25  user_engagement_growth   10506 non-null  float64       \n",
      " 26  buzz_change_rate         10506 non-null  float64       \n",
      " 27  city                     10506 non-null  object        \n",
      " 28  country                  10202 non-null  object        \n",
      " 29  interaction_volume       10506 non-null  int64         \n",
      " 30  likes_ratio              10506 non-null  float64       \n",
      " 31  comments_ratio           10506 non-null  float64       \n",
      " 32  shares_ratio             10506 non-null  float64       \n",
      " 33  hour_of_day              10506 non-null  int32         \n",
      " 34  month                    10506 non-null  int32         \n",
      " 35  year                     10506 non-null  int32         \n",
      " 36  is_weekend               10506 non-null  bool          \n",
      " 37  text_length              10506 non-null  int64         \n",
      " 38  has_hashtags             10506 non-null  bool          \n",
      " 39  has_mentions             10506 non-null  bool          \n",
      " 40  num_keywords             10506 non-null  int64         \n",
      " 41  growth_level             10506 non-null  category      \n",
      "dtypes: bool(3), category(1), datetime64[ns](1), float64(9), int32(3), int64(7), object(18)\n",
      "memory usage: 3.0+ MB\n"
     ]
    },
    {
     "data": {
      "application/vnd.microsoft.datawrangler.viewer.v0+json": {
       "columns": [
        {
         "name": "index",
         "rawType": "object",
         "type": "string"
        },
        {
         "name": "0",
         "rawType": "int64",
         "type": "integer"
        }
       ],
       "ref": "67e30e2c-369f-40bc-8987-eee980124aa5",
       "rows": [
        [
         "post_id",
         "0"
        ],
        [
         "timestamp",
         "0"
        ],
        [
         "day_of_week",
         "0"
        ],
        [
         "platform",
         "0"
        ],
        [
         "user_id",
         "0"
        ],
        [
         "language",
         "0"
        ],
        [
         "text_content",
         "0"
        ],
        [
         "hashtags",
         "0"
        ],
        [
         "mentions",
         "3452"
        ],
        [
         "keywords",
         "0"
        ],
        [
         "topic_category",
         "0"
        ],
        [
         "sentiment_score",
         "0"
        ],
        [
         "sentiment_label",
         "0"
        ],
        [
         "emotion_type",
         "0"
        ],
        [
         "toxicity_score",
         "0"
        ],
        [
         "likes_count",
         "0"
        ],
        [
         "shares_count",
         "0"
        ],
        [
         "comments_count",
         "0"
        ],
        [
         "impressions",
         "0"
        ],
        [
         "engagement_rate",
         "0"
        ],
        [
         "brand_name",
         "0"
        ],
        [
         "product_name",
         "0"
        ],
        [
         "campaign_name",
         "0"
        ],
        [
         "campaign_phase",
         "0"
        ],
        [
         "user_past_sentiment_avg",
         "0"
        ],
        [
         "user_engagement_growth",
         "0"
        ],
        [
         "buzz_change_rate",
         "0"
        ],
        [
         "city",
         "0"
        ],
        [
         "country",
         "304"
        ],
        [
         "interaction_volume",
         "0"
        ],
        [
         "likes_ratio",
         "0"
        ],
        [
         "comments_ratio",
         "0"
        ],
        [
         "shares_ratio",
         "0"
        ],
        [
         "hour_of_day",
         "0"
        ],
        [
         "month",
         "0"
        ],
        [
         "year",
         "0"
        ],
        [
         "is_weekend",
         "0"
        ],
        [
         "text_length",
         "0"
        ],
        [
         "has_hashtags",
         "0"
        ],
        [
         "has_mentions",
         "0"
        ],
        [
         "num_keywords",
         "0"
        ],
        [
         "growth_level",
         "0"
        ]
       ],
       "shape": {
        "columns": 1,
        "rows": 42
       }
      },
      "text/plain": [
       "post_id                       0\n",
       "timestamp                     0\n",
       "day_of_week                   0\n",
       "platform                      0\n",
       "user_id                       0\n",
       "language                      0\n",
       "text_content                  0\n",
       "hashtags                      0\n",
       "mentions                   3452\n",
       "keywords                      0\n",
       "topic_category                0\n",
       "sentiment_score               0\n",
       "sentiment_label               0\n",
       "emotion_type                  0\n",
       "toxicity_score                0\n",
       "likes_count                   0\n",
       "shares_count                  0\n",
       "comments_count                0\n",
       "impressions                   0\n",
       "engagement_rate               0\n",
       "brand_name                    0\n",
       "product_name                  0\n",
       "campaign_name                 0\n",
       "campaign_phase                0\n",
       "user_past_sentiment_avg       0\n",
       "user_engagement_growth        0\n",
       "buzz_change_rate              0\n",
       "city                          0\n",
       "country                     304\n",
       "interaction_volume            0\n",
       "likes_ratio                   0\n",
       "comments_ratio                0\n",
       "shares_ratio                  0\n",
       "hour_of_day                   0\n",
       "month                         0\n",
       "year                          0\n",
       "is_weekend                    0\n",
       "text_length                   0\n",
       "has_hashtags                  0\n",
       "has_mentions                  0\n",
       "num_keywords                  0\n",
       "growth_level                  0\n",
       "dtype: int64"
      ]
     },
     "execution_count": 7,
     "metadata": {},
     "output_type": "execute_result"
    }
   ],
   "source": [
    "# Vista general de las columnas y tipos de datos\n",
    "df.info()\n",
    "\n",
    "# Estadísticas descriptivas de las columnas numéricas\n",
    "df.describe().T\n",
    "\n",
    "# Verificamos si hay valores nulos\n",
    "df.isnull().sum()"
   ]
  },
  {
   "cell_type": "markdown",
   "id": "d0413c38",
   "metadata": {},
   "source": [
    "## **Visualizaciones** \n",
    "<hr style=\"border: none; height: 5px; background-color: #006666;\">\n",
    "\n",
    "\n",
    "##### Se generan gráficos para explorar visualmente las métricas creadas. Estas visualizaciones permiten detectar patrones, comparar plataformas y evaluar el impacto de distintas variables sobre el engagement.\n",
    "\n"
   ]
  },
  {
   "cell_type": "markdown",
   "id": "4f44c69c",
   "metadata": {},
   "source": [
    "#### **Gráfico 1** | Distribución del engagement rate\n",
    "La mayoría de las publicaciones tienen un engagement rate bajo, con una concentración entre 0.03 y 0.08. Esto indica que solo una minoría logra niveles de interacción altos, mostrando una distribución sesgada a la derecha.\n",
    "\n"
   ]
  },
  {
   "cell_type": "code",
   "execution_count": 8,
   "id": "691cb87e",
   "metadata": {},
   "outputs": [
    {
     "data": {
      "image/png": "[encoded data removed]",
      "text/plain": [
       "<Figure size 640x480 with 1 Axes>"
      ]
     },
     "metadata": {},
     "output_type": "display_data"
    }
   ],
   "source": [
    "import seaborn as sns\n",
    "import matplotlib.pyplot as plt\n",
    "\n",
    "sns.histplot(df['engagement_rate'], bins=30, kde=True, color='skyblue')\n",
    "plt.title('Distribución del Engagement Rate')\n",
    "plt.xlabel('Engagement Rate')\n",
    "plt.ylabel('Frecuencia')\n",
    "plt.show()\n",
    "\n"
   ]
  },
  {
   "cell_type": "markdown",
   "id": "60ec6679",
   "metadata": {},
   "source": [
    "### **Gráfico 2** | Comparación de ratios por plataforma\n",
    "Likes son la forma dominante de interacción en todas las plataformas. \n",
    "\n",
    "Instagram, Reddit y Facebook tienen un patrón muy similar, \n",
    "mientras que YouTube muestra ratios levemente más bajos. Los comentarios y compartidos tienen menor peso relativo.\n",
    "\n",
    "\n"
   ]
  },
  {
   "cell_type": "code",
   "execution_count": 9,
   "id": "66575356",
   "metadata": {},
   "outputs": [
    {
     "data": {
      "image/png": "[encoded data removed]",
      "text/plain": [
       "<Figure size 640x480 with 1 Axes>"
      ]
     },
     "metadata": {},
     "output_type": "display_data"
    }
   ],
   "source": [
    "df.groupby('platform')[['likes_ratio', 'comments_ratio', 'shares_ratio']].mean().plot(kind='bar')\n",
    "plt.title('Promedio de Ratios de Interacción por Plataforma')\n",
    "plt.ylabel('Ratio sobre impresiones')\n",
    "plt.xticks(rotation=45)\n",
    "plt.tight_layout()\n",
    "plt.show()\n"
   ]
  },
  {
   "cell_type": "markdown",
   "id": "686d286a",
   "metadata": {},
   "source": [
    "### **Gráfico 3** | Engagement por hora del día\n",
    "\n",
    "Se detectan picos de engagement entre las 11 hs y las 15 hs, y nuevamente entre las 20 hs y 22 hs. \n",
    "\n",
    "Estos horarios podrían representar ventanas óptimas para publicar contenido y maximizar la interacción."
   ]
  },
  {
   "cell_type": "code",
   "execution_count": 10,
   "id": "ef1b6a34",
   "metadata": {},
   "outputs": [
    {
     "data": {
      "image/png": "[encoded data removed]",
      "text/plain": [
       "<Figure size 1000x500 with 1 Axes>"
      ]
     },
     "metadata": {},
     "output_type": "display_data"
    }
   ],
   "source": [
    "# Calcular el promedio de engagement por hora\n",
    "engagement_por_hora = df.groupby('hour_of_day')['engagement_rate'].mean().reset_index()\n",
    "\n",
    "# Gráfico de línea\n",
    "plt.figure(figsize=(10, 5))\n",
    "sns.lineplot(data=engagement_por_hora, x='hour_of_day', y='engagement_rate', marker='o', color='teal')\n",
    "plt.title('Engagement promedio por hora del día')\n",
    "plt.xlabel('Hora del día')\n",
    "plt.ylabel('Engagement Rate promedio')\n",
    "plt.xticks(range(0, 24))\n",
    "plt.grid(True)\n",
    "plt.show()\n",
    "\n"
   ]
  },
  {
   "cell_type": "markdown",
   "id": "570da9f5",
   "metadata": {},
   "source": [
    "## Exportación **Final**\n",
    "<hr style=\"border: none; height: 5px; background-color: Black;\">"
   ]
  },
  {
   "cell_type": "code",
   "execution_count": 11,
   "id": "44ccfab8",
   "metadata": {},
   "outputs": [
    {
     "name": "stdout",
     "output_type": "stream",
     "text": [
      "✅ Dataset exportado como 'final_social_media_dataset.csv'\n"
     ]
    }
   ],
   "source": [
    "# Exportar el dataset enriquecido a un archivo CSV\n",
    "df.to_csv('final_social_media_dataset.csv', index=False)\n",
    "\n",
    "print(\"✅ Dataset exportado como 'final_social_media_dataset.csv'\")\n"
   ]
  }
 ],
 "metadata": {
  "kernelspec": {
   "display_name": "Python 3",
   "language": "python",
   "name": "python3"
  },
  "language_info": {
   "codemirror_mode": {
    "name": "ipython",
    "version": 3
   },
   "file_extension": ".py",
   "mimetype": "text/x-python",
   "name": "python",
   "nbconvert_exporter": "python",
   "pygments_lexer": "ipython3",
   "version": "3.13.2"
  }
 },
 "nbformat": 4,
 "nbformat_minor": 5
}
