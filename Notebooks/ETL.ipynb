{
 "cells": [
  {
   "cell_type": "markdown",
   "id": "2c371436",
   "metadata": {},
   "source": [
    "<h2 style=\"text-align: center;\"><strong>Realización del ETL Proyecto Engagement - FERIVA</strong></h2>\n",
    "\n",
    "<div style=\"height: 6px; display: flex; margin-bottom: 12px;\">\n",
    "  <div style=\"flex: 1; background-color: orange;\"></div>\n",
    "  <div style=\"flex: 1; background-color: violet;\"></div>\n",
    "  <div style=\"flex: 1; background-color: #006666;\"></div>\n",
    "</div>\n",
    "\n",
    "\n",
    "\n"
   ]
  },
  {
   "cell_type": "markdown",
   "id": "bc7d70d3",
   "metadata": {},
   "source": [
    "##  1.  Carga y exploración inicial\n",
    "<hr style=\"border: none; height: 5px; background-color: Orange;\">"
   ]
  },
  {
   "cell_type": "markdown",
   "id": "180e9ce6",
   "metadata": {},
   "source": [
    "### Carga de **Social Media Engagement** Dataset  y comprobación de registros "
   ]
  },
  {
   "cell_type": "code",
   "execution_count": 14,
   "id": "0a1a76a4",
   "metadata": {},
   "outputs": [],
   "source": [
    "import pandas as pd\n",
    "\n",
    "# Cargar el dataset\n",
    "df = pd.read_csv( r'C:\\Users\\Bruger\\Desktop\\Proyecto Redes\\Dataset REDES\\Social Media Engagement Dataset.csv')\n"
   ]
  },
  {
   "cell_type": "code",
   "execution_count": 15,
   "id": "1eb45fde",
   "metadata": {},
   "outputs": [
    {
     "name": "stdout",
     "output_type": "stream",
     "text": [
      "Comprobacion del data set\n",
      "(12000, 28)\n",
      "        post_id            timestamp day_of_week   platform        user_id  \\\n",
      "0  kcqbs6hxybia  2024-12-09 11:26:15      Monday  Instagram  user_52nwb0a6   \n",
      "1  vkmervg4ioos  2024-07-28 19:59:26      Sunday    Twitter  user_ucryct98   \n",
      "2  memhx4o1x6yu  2024-11-23 14:00:12    Saturday     Reddit  user_7rrev126   \n",
      "3  bhyo6piijqt9  2024-09-16 04:35:25      Monday    YouTube  user_4mxuq0ax   \n",
      "4  c9dkiomowakt  2024-09-05 21:03:01    Thursday    Twitter  user_l1vpox2k   \n",
      "\n",
      "               location language  \\\n",
      "0  Melbourne, Australia       pt   \n",
      "1          Tokyo, Japan       ru   \n",
      "2        Beijing, China       ru   \n",
      "3        Lagos, Nigeria       en   \n",
      "4       Berlin, Germany       hi   \n",
      "\n",
      "                                        text_content  \\\n",
      "0  Just tried the Chromebook from Google. Best pu...   \n",
      "1  Just saw an ad for Microsoft Surface Laptop du...   \n",
      "2  What's your opinion about Nike's Epic React?  ...   \n",
      "3  Bummed out with my new Diet Pepsi from Pepsi! ...   \n",
      "4  Just tried the Corolla from Toyota. Absolutely...   \n",
      "\n",
      "                   hashtags                        mentions  ...  \\\n",
      "0                     #Food                             NaN  ...   \n",
      "1          #MustHave, #Food     @CustomerService, @BrandCEO  ...   \n",
      "2  #Promo, #Food, #Trending                             NaN  ...   \n",
      "3    #Reviews, #Sustainable      @StyleGuide, @BrandSupport  ...   \n",
      "4          #Health, #Travel  @BrandSupport, @InfluencerName  ...   \n",
      "\n",
      "  comments_count impressions  engagement_rate brand_name    product_name  \\\n",
      "0            701       18991          0.19319     Google      Chromebook   \n",
      "1            359       52764          0.05086  Microsoft  Surface Laptop   \n",
      "2            643        8887          0.45425       Nike      Epic React   \n",
      "3            743        6696          0.42293      Pepsi      Diet Pepsi   \n",
      "4            703       47315          0.08773     Toyota         Corolla   \n",
      "\n",
      "      campaign_name  campaign_phase  user_past_sentiment_avg  \\\n",
      "0       BlackFriday          Launch                   0.0953   \n",
      "1      PowerRelease     Post-Launch                   0.1369   \n",
      "2       BlackFriday     Post-Launch                   0.2855   \n",
      "3        LaunchWave          Launch                  -0.2094   \n",
      "4  LocalTouchpoints          Launch                   0.6867   \n",
      "\n",
      "   user_engagement_growth  buzz_change_rate  \n",
      "0                 -0.3672              19.1  \n",
      "1                 -0.4510             -42.6  \n",
      "2                 -0.4112              17.4  \n",
      "3                 -0.0167              -5.5  \n",
      "4                  0.0807              38.8  \n",
      "\n",
      "[5 rows x 28 columns]\n",
      "post_id                       0\n",
      "timestamp                     0\n",
      "day_of_week                   0\n",
      "platform                      0\n",
      "user_id                       0\n",
      "location                      0\n",
      "language                      0\n",
      "text_content                  0\n",
      "hashtags                      0\n",
      "mentions                   3941\n",
      "keywords                      0\n",
      "topic_category                0\n",
      "sentiment_score               0\n",
      "sentiment_label               0\n",
      "emotion_type                  0\n",
      "toxicity_score                0\n",
      "likes_count                   0\n",
      "shares_count                  0\n",
      "comments_count                0\n",
      "impressions                   0\n",
      "engagement_rate               0\n",
      "brand_name                    0\n",
      "product_name                  0\n",
      "campaign_name                 0\n",
      "campaign_phase                0\n",
      "user_past_sentiment_avg       0\n",
      "user_engagement_growth        0\n",
      "buzz_change_rate              0\n",
      "dtype: int64\n",
      "post_id                     object\n",
      "timestamp                   object\n",
      "day_of_week                 object\n",
      "platform                    object\n",
      "user_id                     object\n",
      "location                    object\n",
      "language                    object\n",
      "text_content                object\n",
      "hashtags                    object\n",
      "mentions                    object\n",
      "keywords                    object\n",
      "topic_category              object\n",
      "sentiment_score            float64\n",
      "sentiment_label             object\n",
      "emotion_type                object\n",
      "toxicity_score             float64\n",
      "likes_count                  int64\n",
      "shares_count                 int64\n",
      "comments_count               int64\n",
      "impressions                  int64\n",
      "engagement_rate            float64\n",
      "brand_name                  object\n",
      "product_name                object\n",
      "campaign_name               object\n",
      "campaign_phase              object\n",
      "user_past_sentiment_avg    float64\n",
      "user_engagement_growth     float64\n",
      "buzz_change_rate           float64\n",
      "dtype: object\n"
     ]
    }
   ],
   "source": [
    "# 4. Comprobacion de la cantidad de registros y columnas especificadas. \n",
    "print(\"Comprobacion del data set\") \n",
    "print(df.shape)\n",
    "\n",
    "# Vista previa\n",
    "print(df.head())\n",
    "\n",
    "# Verificar valores nulos\n",
    "print(df.isnull().sum())\n",
    "\n",
    "# Tipos de datos\n",
    "print(df.dtypes)"
   ]
  },
  {
   "cell_type": "markdown",
   "id": "ce6678eb",
   "metadata": {},
   "source": [
    "### Verificación de valores nulos, ajuste de tipos de datos y estandarizacion de nombres.\n",
    "\n"
   ]
  },
  {
   "cell_type": "code",
   "execution_count": 16,
   "id": "45048508",
   "metadata": {},
   "outputs": [],
   "source": [
    "#Reemplazo nulos por Vacios \n",
    "df['mentions'] = df['mentions'].fillna(\"\")\n",
    "\n",
    "# Cambio de formato  a fecha  \n",
    "df['timestamp'] = pd.to_datetime(df['timestamp'])\n",
    "\n",
    "#Estandarizo nombres que contiene mayus y minuscula solo mayuscula al comienzo\n",
    "df['platform'] = df['platform'].str.capitalize()\n"
   ]
  },
  {
   "cell_type": "markdown",
   "id": "9efec914",
   "metadata": {},
   "source": [
    "## Limpieza y transformaciones\n",
    "<hr style=\"border: none; height: 5px; background-color: Orange;\">\n"
   ]
  },
  {
   "cell_type": "markdown",
   "id": "4fbf6ca4",
   "metadata": {},
   "source": [
    "### Mapeo de abreviaturas y separación de columnas "
   ]
  },
  {
   "cell_type": "code",
   "execution_count": 17,
   "id": "697768e6",
   "metadata": {},
   "outputs": [],
   "source": [
    "# Mapeo de abreviaturas estándar en mayúsculas\n",
    "language_map = {\n",
    "    'pt': 'POR',\n",
    "    'ru': 'RUS',\n",
    "    'en': 'ENG',\n",
    "    'hi': 'HIN',\n",
    "    'ja': 'JPN',\n",
    "    'es': 'ESP',\n",
    "    'de': 'GER',\n",
    "    'fr': 'FRA',\n",
    "    'ar': 'ARAB',\n",
    "    'zh': 'CHI'\n",
    "}\n",
    "\n",
    "# Aplicar el mapeo a la columna 'language'\n",
    "df['language'] = df['language'].map(language_map)\n"
   ]
  },
  {
   "cell_type": "code",
   "execution_count": 18,
   "id": "eff18a30",
   "metadata": {},
   "outputs": [
    {
     "name": "stdout",
     "output_type": "stream",
     "text": [
      "               location       city    country\n",
      "0  Melbourne, Australia  Melbourne  Australia\n",
      "1          Tokyo, Japan      Tokyo      Japan\n",
      "2        Beijing, China    Beijing      China\n",
      "3        Lagos, Nigeria      Lagos    Nigeria\n",
      "4       Berlin, Germany     Berlin    Germany\n"
     ]
    }
   ],
   "source": [
    "# Separar la columna 'location' por la coma\n",
    "df[['city', 'country']] = df['location'].str.split(',', n=1, expand=True)\n",
    "\n",
    "# Eliminar espacios extra (si los hay)\n",
    "df['city'] = df['city'].str.strip()\n",
    "df['country'] = df['country'].str.strip()\n",
    "\n",
    "# Verificar resultado\n",
    "print(df[['location', 'city', 'country']].head())"
   ]
  },
  {
   "cell_type": "code",
   "execution_count": 19,
   "id": "8b8973f7",
   "metadata": {},
   "outputs": [
    {
     "name": "stdout",
     "output_type": "stream",
     "text": [
      "Index(['post_id', 'timestamp', 'day_of_week', 'platform', 'user_id',\n",
      "       'location', 'language', 'text_content', 'hashtags', 'mentions',\n",
      "       'keywords', 'topic_category', 'sentiment_score', 'sentiment_label',\n",
      "       'emotion_type', 'toxicity_score', 'likes_count', 'shares_count',\n",
      "       'comments_count', 'impressions', 'engagement_rate', 'brand_name',\n",
      "       'product_name', 'campaign_name', 'campaign_phase',\n",
      "       'user_past_sentiment_avg', 'user_engagement_growth', 'buzz_change_rate',\n",
      "       'city', 'country'],\n",
      "      dtype='object')\n"
     ]
    }
   ],
   "source": [
    "print(df.columns)\n"
   ]
  },
  {
   "cell_type": "markdown",
   "id": "f795821e",
   "metadata": {},
   "source": [
    "## Verificación de integridad\n",
    "\n",
    "<hr style=\"border: none; height: 5px; background-color: violet;\">"
   ]
  },
  {
   "cell_type": "markdown",
   "id": "224e6d97",
   "metadata": {},
   "source": [
    "### Eliminación de filas duplicadas, conversión de contenido y revisión de valores negativo inadecuados"
   ]
  },
  {
   "cell_type": "code",
   "execution_count": 20,
   "id": "23f6ed89",
   "metadata": {},
   "outputs": [],
   "source": [
    "# Eliminar filas duplicadas para evitar registros repetidos\n",
    "# Esto es útil si hubo cargas múltiples o errores en la fuente de datos\n",
    "df.drop_duplicates(inplace=True)\n"
   ]
  },
  {
   "cell_type": "code",
   "execution_count": 21,
   "id": "4fd0ba31",
   "metadata": {},
   "outputs": [
    {
     "name": "stdout",
     "output_type": "stream",
     "text": [
      "(12000, 30)\n"
     ]
    }
   ],
   "source": [
    "print(df.shape)"
   ]
  },
  {
   "cell_type": "code",
   "execution_count": 22,
   "id": "8e0f5dba",
   "metadata": {},
   "outputs": [],
   "source": [
    "# Convertir contenido de texto a minúsculas para evitar errores al filtrar o agrupar\n",
    "#  útil al hacer análisis de hashtags o contenido\n",
    "df['hashtags'] = df['hashtags'].str.lower()\n"
   ]
  },
  {
   "cell_type": "code",
   "execution_count": 23,
   "id": "00986579",
   "metadata": {},
   "outputs": [
    {
     "name": "stdout",
     "output_type": "stream",
     "text": [
      "Empty DataFrame\n",
      "Columns: [post_id, timestamp, day_of_week, platform, user_id, location, language, text_content, hashtags, mentions, keywords, topic_category, sentiment_score, sentiment_label, emotion_type, toxicity_score, likes_count, shares_count, comments_count, impressions, engagement_rate, brand_name, product_name, campaign_name, campaign_phase, user_past_sentiment_avg, user_engagement_growth, buzz_change_rate, city, country]\n",
      "Index: []\n",
      "\n",
      "[0 rows x 30 columns]\n",
      "Empty DataFrame\n",
      "Columns: [post_id, timestamp, day_of_week, platform, user_id, location, language, text_content, hashtags, mentions, keywords, topic_category, sentiment_score, sentiment_label, emotion_type, toxicity_score, likes_count, shares_count, comments_count, impressions, engagement_rate, brand_name, product_name, campaign_name, campaign_phase, user_past_sentiment_avg, user_engagement_growth, buzz_change_rate, city, country]\n",
      "Index: []\n",
      "\n",
      "[0 rows x 30 columns]\n",
      "Empty DataFrame\n",
      "Columns: [post_id, timestamp, day_of_week, platform, user_id, location, language, text_content, hashtags, mentions, keywords, topic_category, sentiment_score, sentiment_label, emotion_type, toxicity_score, likes_count, shares_count, comments_count, impressions, engagement_rate, brand_name, product_name, campaign_name, campaign_phase, user_past_sentiment_avg, user_engagement_growth, buzz_change_rate, city, country]\n",
      "Index: []\n",
      "\n",
      "[0 rows x 30 columns]\n",
      "Empty DataFrame\n",
      "Columns: [post_id, timestamp, day_of_week, platform, user_id, location, language, text_content, hashtags, mentions, keywords, topic_category, sentiment_score, sentiment_label, emotion_type, toxicity_score, likes_count, shares_count, comments_count, impressions, engagement_rate, brand_name, product_name, campaign_name, campaign_phase, user_past_sentiment_avg, user_engagement_growth, buzz_change_rate, city, country]\n",
      "Index: []\n",
      "\n",
      "[0 rows x 30 columns]\n"
     ]
    }
   ],
   "source": [
    "# Verificar si hay valores negativos en columnas (no deberían existir)\n",
    "\n",
    "print(df[df['engagement_rate'] < 0])\n",
    "\n",
    "print(df[df['shares_count'] < 0])\n",
    "\n",
    "print(df[df['comments_count'] < 0])\n",
    "\n",
    "print(df[df['impressions'] < 0])\n",
    "\n",
    "\n",
    "\n",
    "\n"
   ]
  },
  {
   "cell_type": "markdown",
   "id": "41d2ecf8",
   "metadata": {},
   "source": [
    "## Análisis de valores extremos (outliers)\n",
    "<hr style=\"border: none; height: 5px; background-color: violet;\">\n",
    "\n"
   ]
  },
  {
   "cell_type": "markdown",
   "id": "cad62f4d",
   "metadata": {},
   "source": [
    "### Generación de resumen estadístico e identificación de outliers"
   ]
  },
  {
   "cell_type": "code",
   "execution_count": 24,
   "id": "efc9cbf2",
   "metadata": {},
   "outputs": [
    {
     "name": "stdout",
     "output_type": "stream",
     "text": [
      "                           timestamp  sentiment_score  toxicity_score  \\\n",
      "count                          12000     12000.000000    12000.000000   \n",
      "mean   2024-10-30 09:11:56.604916736         0.000553        0.503868   \n",
      "min              2024-05-01 01:04:04        -0.999800        0.000000   \n",
      "25%       2024-07-31 17:31:49.500000        -0.503200        0.251400   \n",
      "50%       2024-10-31 03:49:36.500000        -0.006200        0.505950   \n",
      "75%    2025-01-28 13:32:56.750000128         0.513525        0.756200   \n",
      "max              2025-04-30 23:46:43         0.999900        0.999900   \n",
      "std                              NaN         0.583563        0.288198   \n",
      "\n",
      "       likes_count  shares_count  comments_count   impressions  \\\n",
      "count  12000.00000  12000.000000     12000.00000  12000.000000   \n",
      "mean    2490.72025   1007.167167       504.34575  49811.338500   \n",
      "min        0.00000      0.000000         0.00000    130.000000   \n",
      "25%     1236.00000    510.000000       253.00000  24716.500000   \n",
      "50%     2496.00000   1018.000000       503.00000  49674.000000   \n",
      "75%     3723.25000   1501.000000       755.00000  74815.000000   \n",
      "max     5000.00000   2000.000000      1000.00000  99997.000000   \n",
      "std     1441.53253    575.072282       288.68416  28930.289451   \n",
      "\n",
      "       engagement_rate  user_past_sentiment_avg  user_engagement_growth  \\\n",
      "count     12000.000000             12000.000000            12000.000000   \n",
      "mean          0.278137                 0.001472                0.000998   \n",
      "min           0.001880                -0.999600               -0.499900   \n",
      "25%           0.049100                -0.495975               -0.248400   \n",
      "50%           0.080605                 0.001950                0.002800   \n",
      "75%           0.163123                 0.501725                0.250700   \n",
      "max          32.211710                 0.999400                0.499900   \n",
      "std           1.149206                 0.576627                0.289940   \n",
      "\n",
      "       buzz_change_rate  \n",
      "count      12000.000000  \n",
      "mean           0.729692  \n",
      "min          -99.900000  \n",
      "25%          -48.700000  \n",
      "50%            0.900000  \n",
      "75%           50.100000  \n",
      "max           99.900000  \n",
      "std           57.787219  \n"
     ]
    }
   ],
   "source": [
    "# Ver un resumen estadístico de todas las columnas numéricas\n",
    "print(df.describe())\n"
   ]
  },
  {
   "cell_type": "code",
   "execution_count": 25,
   "id": "d1cf8940",
   "metadata": {},
   "outputs": [
    {
     "name": "stdout",
     "output_type": "stream",
     "text": [
      "count    12000.000000\n",
      "mean         0.278137\n",
      "std          1.149206\n",
      "min          0.001880\n",
      "25%          0.049100\n",
      "50%          0.080605\n",
      "75%          0.163123\n",
      "max         32.211710\n",
      "Name: engagement_rate, dtype: float64\n"
     ]
    }
   ],
   "source": [
    "print(df['engagement_rate'].describe())\n"
   ]
  },
  {
   "cell_type": "code",
   "execution_count": 26,
   "id": "7131a04f",
   "metadata": {},
   "outputs": [
    {
     "data": {
      "image/png": "[encoded data removed]",
      "text/plain": [
       "<Figure size 1000x400 with 1 Axes>"
      ]
     },
     "metadata": {},
     "output_type": "display_data"
    }
   ],
   "source": [
    "import matplotlib.pyplot as plt\n",
    "import seaborn as sns\n",
    "\n",
    "plt.figure(figsize=(10, 4))\n",
    "sns.histplot(df['engagement_rate'], bins=30, kde=True)\n",
    "plt.title('Histograma de Engagement Rate (sin outliers)')\n",
    "plt.xlabel('Engagement Rate')\n",
    "plt.ylabel('Cantidad de publicaciones')\n",
    "plt.grid(True)\n",
    "plt.show()"
   ]
  },
  {
   "cell_type": "code",
   "execution_count": 27,
   "id": "7f0858ea",
   "metadata": {},
   "outputs": [
    {
     "data": {
      "image/png": "[encoded data removed]",
      "text/plain": [
       "<Figure size 1000x400 with 1 Axes>"
      ]
     },
     "metadata": {},
     "output_type": "display_data"
    }
   ],
   "source": [
    "import matplotlib.pyplot as plt\n",
    "import seaborn as sns\n",
    "\n",
    "# Ajustar estilo visual (opcional)\n",
    "sns.set(style=\"whitegrid\")\n",
    "\n",
    "# Crear boxplot para ver outliers en engagement_rate\n",
    "plt.figure(figsize=(10, 4))\n",
    "sns.boxplot(x=df['engagement_rate'])\n",
    "plt.title('Distribución de Engagement Rate (Detección de Outliers)')\n",
    "plt.xlabel('Engagement Rate')\n",
    "plt.grid(True)\n",
    "plt.show()\n"
   ]
  },
  {
   "cell_type": "markdown",
   "id": "23da5441",
   "metadata": {},
   "source": [
    "### Aplicación del método de Tukey (IQR) para calcular límites y eliminar outliers"
   ]
  },
  {
   "cell_type": "code",
   "execution_count": 28,
   "id": "8f2263d1",
   "metadata": {},
   "outputs": [],
   "source": [
    "# Calcular límites de Tukey para detectar outliers\n",
    "Q1 = df['engagement_rate'].quantile(0.25)\n",
    "Q3 = df['engagement_rate'].quantile(0.75)\n",
    "IQR = Q3 - Q1\n",
    "upper_bound = Q3 + 1.5 * IQR\n",
    "\n",
    "# Eliminar outliers que están por encima del límite superior\n",
    "df = df[df['engagement_rate'] <= upper_bound]\n"
   ]
  },
  {
   "cell_type": "markdown",
   "id": "595103f1",
   "metadata": {},
   "source": [
    "### Revalidación estadística post-limpieza"
   ]
  },
  {
   "cell_type": "code",
   "execution_count": 29,
   "id": "89636125",
   "metadata": {},
   "outputs": [
    {
     "name": "stdout",
     "output_type": "stream",
     "text": [
      "count    10506.000000\n",
      "mean         0.092452\n",
      "std          0.066880\n",
      "min          0.001880\n",
      "25%          0.046110\n",
      "50%          0.071575\n",
      "75%          0.117735\n",
      "max          0.332950\n",
      "Name: engagement_rate, dtype: float64\n"
     ]
    }
   ],
   "source": [
    "print(df['engagement_rate'].describe())"
   ]
  },
  {
   "cell_type": "code",
   "execution_count": null,
   "id": "425837f0",
   "metadata": {},
   "outputs": [
    {
     "name": "stdout",
     "output_type": "stream",
     "text": [
      "        post_id           timestamp day_of_week   platform        user_id  \\\n",
      "0  kcqbs6hxybia 2024-12-09 11:26:15      Monday  Instagram  user_52nwb0a6   \n",
      "1  vkmervg4ioos 2024-07-28 19:59:26      Sunday    Twitter  user_ucryct98   \n",
      "4  c9dkiomowakt 2024-09-05 21:03:01    Thursday    Twitter  user_l1vpox2k   \n",
      "6  32qywmjy84gk 2024-08-21 17:02:47   Wednesday  Instagram  user_hpr07vl1   \n",
      "7  wu063ci6mizp 2025-01-27 16:09:54      Monday     Reddit  user_2es9a4lv   \n",
      "\n",
      "               location language  \\\n",
      "0  Melbourne, Australia      POR   \n",
      "1          Tokyo, Japan      RUS   \n",
      "4       Berlin, Germany      HIN   \n",
      "6         Madrid, Spain      JPN   \n",
      "7     São Paulo, Brazil      ESP   \n",
      "\n",
      "                                        text_content  \\\n",
      "0  Just tried the Chromebook from Google. Best pu...   \n",
      "1  Just saw an ad for Microsoft Surface Laptop du...   \n",
      "4  Just tried the Corolla from Toyota. Absolutely...   \n",
      "6  Not sure why with my new Pepsi Wild Cherry fro...   \n",
      "7  Just saw an ad for Coca-Cola Coke Zero during ...   \n",
      "\n",
      "                     hashtags                         mentions  ...  \\\n",
      "0                       #food                                   ...   \n",
      "1            #musthave, #food      @CustomerService, @BrandCEO  ...   \n",
      "4            #health, #travel   @BrandSupport, @InfluencerName  ...   \n",
      "6  #quality, #promo, #limited                                   ...   \n",
      "7        #musthave, #discount  @MarketingTeam, @InfluencerName  ...   \n",
      "\n",
      "  engagement_rate brand_name       product_name     campaign_name  \\\n",
      "0         0.19319     Google         Chromebook       BlackFriday   \n",
      "1         0.05086  Microsoft     Surface Laptop      PowerRelease   \n",
      "4         0.08773     Toyota            Corolla  LocalTouchpoints   \n",
      "6         0.16139      Pepsi  Pepsi Wild Cherry    GlobalCampaign   \n",
      "7         0.04442  Coca-Cola          Coke Zero     CustomerFirst   \n",
      "\n",
      "  campaign_phase  user_past_sentiment_avg  user_engagement_growth  \\\n",
      "0         Launch                   0.0953                 -0.3672   \n",
      "1    Post-Launch                   0.1369                 -0.4510   \n",
      "4         Launch                   0.6867                  0.0807   \n",
      "6         Launch                  -0.9263                 -0.0810   \n",
      "7    Post-Launch                  -0.9831                  0.2152   \n",
      "\n",
      "   buzz_change_rate       city    country  \n",
      "0              19.1  Melbourne  Australia  \n",
      "1             -42.6      Tokyo      Japan  \n",
      "4              38.8     Berlin    Germany  \n",
      "6             -13.4     Madrid      Spain  \n",
      "7              89.7  São Paulo     Brazil  \n",
      "\n",
      "[5 rows x 30 columns]\n",
      "post_id                      0\n",
      "timestamp                    0\n",
      "day_of_week                  0\n",
      "platform                     0\n",
      "user_id                      0\n",
      "location                     0\n",
      "language                     0\n",
      "text_content                 0\n",
      "hashtags                     0\n",
      "mentions                     0\n",
      "keywords                     0\n",
      "topic_category               0\n",
      "sentiment_score              0\n",
      "sentiment_label              0\n",
      "emotion_type                 0\n",
      "toxicity_score               0\n",
      "likes_count                  0\n",
      "shares_count                 0\n",
      "comments_count               0\n",
      "impressions                  0\n",
      "engagement_rate              0\n",
      "brand_name                   0\n",
      "product_name                 0\n",
      "campaign_name                0\n",
      "campaign_phase               0\n",
      "user_past_sentiment_avg      0\n",
      "user_engagement_growth       0\n",
      "buzz_change_rate             0\n",
      "city                         0\n",
      "country                    304\n",
      "dtype: int64\n",
      "post_id                            object\n",
      "timestamp                  datetime64[ns]\n",
      "day_of_week                        object\n",
      "platform                           object\n",
      "user_id                            object\n",
      "location                           object\n",
      "language                           object\n",
      "text_content                       object\n",
      "hashtags                           object\n",
      "mentions                           object\n",
      "keywords                           object\n",
      "topic_category                     object\n",
      "sentiment_score                   float64\n",
      "sentiment_label                    object\n",
      "emotion_type                       object\n",
      "toxicity_score                    float64\n",
      "likes_count                         int64\n",
      "shares_count                        int64\n",
      "comments_count                      int64\n",
      "impressions                         int64\n",
      "engagement_rate                   float64\n",
      "brand_name                         object\n",
      "product_name                       object\n",
      "campaign_name                      object\n",
      "campaign_phase                     object\n",
      "user_past_sentiment_avg           float64\n",
      "user_engagement_growth            float64\n",
      "buzz_change_rate                  float64\n",
      "city                               object\n",
      "country                            object\n",
      "dtype: object\n"
     ]
    }
   ],
   "source": [
    "# Check DATASET \n",
    "# Vista previa\n",
    "print(df.head())\n",
    "\n",
    "# Verificar valores nulos\n",
    "print(df.isnull().sum())\n",
    "\n",
    "# Tipos de datos\n",
    "print(df.dtypes)"
   ]
  },
  {
   "cell_type": "markdown",
   "id": "5ad27a67",
   "metadata": {},
   "source": [
    "### Visualización actualizada con boxplot e histograma sin outliers."
   ]
  },
  {
   "cell_type": "code",
   "execution_count": 31,
   "id": "1affba78",
   "metadata": {},
   "outputs": [
    {
     "data": {
      "image/png": "[encoded data removed]",
      "text/plain": [
       "<Figure size 1000x400 with 1 Axes>"
      ]
     },
     "metadata": {},
     "output_type": "display_data"
    }
   ],
   "source": [
    "import matplotlib.pyplot as plt\n",
    "import seaborn as sns\n",
    "\n",
    "# Ajustar estilo visual (opcional)\n",
    "sns.set(style=\"whitegrid\")\n",
    "\n",
    "# Crear boxplot para ver outliers en engagement_rate\n",
    "plt.figure(figsize=(10, 4))\n",
    "sns.boxplot(x=df['engagement_rate'])\n",
    "plt.title('Distribución de Engagement Rate (Comprobación post Outliers)')\n",
    "plt.xlabel('Engagement Rate')\n",
    "plt.grid(True)\n",
    "plt.show()\n"
   ]
  },
  {
   "cell_type": "code",
   "execution_count": 32,
   "id": "738c113c",
   "metadata": {},
   "outputs": [
    {
     "data": {
      "image/png": "[encoded data removed]",
      "text/plain": [
       "<Figure size 1000x400 with 1 Axes>"
      ]
     },
     "metadata": {},
     "output_type": "display_data"
    }
   ],
   "source": [
    "#Verificar columna sin outliers\n",
    "\n",
    "plt.figure(figsize=(10, 4))\n",
    "sns.histplot(df['engagement_rate'], bins=30, kde=True)\n",
    "plt.title('Histograma de Engagement Rate (sin outliers)')\n",
    "plt.xlabel('Engagement Rate')\n",
    "plt.ylabel('Cantidad de publicaciones')\n",
    "plt.grid(True)\n",
    "plt.show()\n"
   ]
  },
  {
   "cell_type": "code",
   "execution_count": 33,
   "id": "a4bb2001",
   "metadata": {},
   "outputs": [
    {
     "name": "stdout",
     "output_type": "stream",
     "text": [
      "(10506, 30)\n"
     ]
    }
   ],
   "source": [
    "print(df.shape)"
   ]
  },
  {
   "cell_type": "markdown",
   "id": "60144037",
   "metadata": {},
   "source": [
    "## Verificación de consistencia de métricas\n",
    "<hr style=\"border: none; height: 5px; background-color: #006666;\">"
   ]
  },
  {
   "cell_type": "markdown",
   "id": "fa87b680",
   "metadata": {},
   "source": [
    "### Suma de columnas clave"
   ]
  },
  {
   "cell_type": "code",
   "execution_count": 34,
   "id": "7f94a38f",
   "metadata": {},
   "outputs": [
    {
     "name": "stdout",
     "output_type": "stream",
     "text": [
      "Total Likes: 25438321\n",
      "Total Shares: 10417474\n",
      "Total Comments: 5267813\n",
      "Total Impressions: 587358638\n"
     ]
    }
   ],
   "source": [
    "#Sumar columnas relevantes y revisar proporciones\n",
    "\n",
    "print(\"Total Likes:\", df['likes_count'].sum())\n",
    "print(\"Total Shares:\", df['shares_count'].sum())\n",
    "print(\"Total Comments:\", df['comments_count'].sum())\n",
    "print(\"Total Impressions:\", df['impressions'].sum())\n"
   ]
  },
  {
   "cell_type": "markdown",
   "id": "9ca99071",
   "metadata": {},
   "source": [
    "### Cálculo de engagement_rate reconstruido a partir de interacciones sobre impresiones"
   ]
  },
  {
   "cell_type": "code",
   "execution_count": 35,
   "id": "643703db",
   "metadata": {},
   "outputs": [
    {
     "name": "stdout",
     "output_type": "stream",
     "text": [
      "0\n"
     ]
    }
   ],
   "source": [
    "# Ver ratios entre columnas\n",
    "df['reconstructed_engagement'] = (df['likes_count'] + df['shares_count'] + df['comments_count']) / df['impressions']\n",
    "df['engagement_diff'] = df['engagement_rate'] - df['reconstructed_engagement']\n",
    "\n",
    "# Ver cuántos casos tienen una diferencia notable\n",
    "print((df['engagement_diff'].abs() > 0.01).sum())\n"
   ]
  },
  {
   "cell_type": "code",
   "execution_count": 36,
   "id": "13471bec",
   "metadata": {},
   "outputs": [
    {
     "data": {
      "application/vnd.microsoft.datawrangler.viewer.v0+json": {
       "columns": [
        {
         "name": "index",
         "rawType": "int64",
         "type": "integer"
        },
        {
         "name": "likes_count",
         "rawType": "int64",
         "type": "integer"
        },
        {
         "name": "shares_count",
         "rawType": "int64",
         "type": "integer"
        },
        {
         "name": "comments_count",
         "rawType": "int64",
         "type": "integer"
        },
        {
         "name": "impressions",
         "rawType": "int64",
         "type": "integer"
        }
       ],
       "ref": "b869b1ab-141c-4348-b9da-f6d6ebbf5c44",
       "rows": [
        [
         "8182",
         "287",
         "154",
         "340",
         "99997"
        ],
        [
         "8936",
         "3902",
         "335",
         "94",
         "99970"
        ],
        [
         "9262",
         "2101",
         "523",
         "186",
         "99970"
        ],
        [
         "9659",
         "576",
         "1716",
         "153",
         "99964"
        ],
        [
         "7080",
         "3300",
         "467",
         "100",
         "99964"
        ],
        [
         "6217",
         "3757",
         "9",
         "943",
         "99959"
        ],
        [
         "11611",
         "2944",
         "909",
         "128",
         "99957"
        ],
        [
         "7422",
         "2980",
         "1966",
         "233",
         "99955"
        ],
        [
         "3451",
         "2868",
         "1288",
         "25",
         "99945"
        ],
        [
         "1238",
         "853",
         "496",
         "482",
         "99922"
        ]
       ],
       "shape": {
        "columns": 4,
        "rows": 10
       }
      },
      "text/html": [
       "<div>\n",
       "<style scoped>\n",
       "    .dataframe tbody tr th:only-of-type {\n",
       "        vertical-align: middle;\n",
       "    }\n",
       "\n",
       "    .dataframe tbody tr th {\n",
       "        vertical-align: top;\n",
       "    }\n",
       "\n",
       "    .dataframe thead th {\n",
       "        text-align: right;\n",
       "    }\n",
       "</style>\n",
       "<table border=\"1\" class=\"dataframe\">\n",
       "  <thead>\n",
       "    <tr style=\"text-align: right;\">\n",
       "      <th></th>\n",
       "      <th>likes_count</th>\n",
       "      <th>shares_count</th>\n",
       "      <th>comments_count</th>\n",
       "      <th>impressions</th>\n",
       "    </tr>\n",
       "  </thead>\n",
       "  <tbody>\n",
       "    <tr>\n",
       "      <th>8182</th>\n",
       "      <td>287</td>\n",
       "      <td>154</td>\n",
       "      <td>340</td>\n",
       "      <td>99997</td>\n",
       "    </tr>\n",
       "    <tr>\n",
       "      <th>8936</th>\n",
       "      <td>3902</td>\n",
       "      <td>335</td>\n",
       "      <td>94</td>\n",
       "      <td>99970</td>\n",
       "    </tr>\n",
       "    <tr>\n",
       "      <th>9262</th>\n",
       "      <td>2101</td>\n",
       "      <td>523</td>\n",
       "      <td>186</td>\n",
       "      <td>99970</td>\n",
       "    </tr>\n",
       "    <tr>\n",
       "      <th>9659</th>\n",
       "      <td>576</td>\n",
       "      <td>1716</td>\n",
       "      <td>153</td>\n",
       "      <td>99964</td>\n",
       "    </tr>\n",
       "    <tr>\n",
       "      <th>7080</th>\n",
       "      <td>3300</td>\n",
       "      <td>467</td>\n",
       "      <td>100</td>\n",
       "      <td>99964</td>\n",
       "    </tr>\n",
       "    <tr>\n",
       "      <th>6217</th>\n",
       "      <td>3757</td>\n",
       "      <td>9</td>\n",
       "      <td>943</td>\n",
       "      <td>99959</td>\n",
       "    </tr>\n",
       "    <tr>\n",
       "      <th>11611</th>\n",
       "      <td>2944</td>\n",
       "      <td>909</td>\n",
       "      <td>128</td>\n",
       "      <td>99957</td>\n",
       "    </tr>\n",
       "    <tr>\n",
       "      <th>7422</th>\n",
       "      <td>2980</td>\n",
       "      <td>1966</td>\n",
       "      <td>233</td>\n",
       "      <td>99955</td>\n",
       "    </tr>\n",
       "    <tr>\n",
       "      <th>3451</th>\n",
       "      <td>2868</td>\n",
       "      <td>1288</td>\n",
       "      <td>25</td>\n",
       "      <td>99945</td>\n",
       "    </tr>\n",
       "    <tr>\n",
       "      <th>1238</th>\n",
       "      <td>853</td>\n",
       "      <td>496</td>\n",
       "      <td>482</td>\n",
       "      <td>99922</td>\n",
       "    </tr>\n",
       "  </tbody>\n",
       "</table>\n",
       "</div>"
      ],
      "text/plain": [
       "       likes_count  shares_count  comments_count  impressions\n",
       "8182           287           154             340        99997\n",
       "8936          3902           335              94        99970\n",
       "9262          2101           523             186        99970\n",
       "9659           576          1716             153        99964\n",
       "7080          3300           467             100        99964\n",
       "6217          3757             9             943        99959\n",
       "11611         2944           909             128        99957\n",
       "7422          2980          1966             233        99955\n",
       "3451          2868          1288              25        99945\n",
       "1238           853           496             482        99922"
      ]
     },
     "execution_count": 36,
     "metadata": {},
     "output_type": "execute_result"
    }
   ],
   "source": [
    "df[['likes_count', 'shares_count', 'comments_count', 'impressions']].sort_values(by='impressions', ascending=False).head(10)\n"
   ]
  },
  {
   "cell_type": "markdown",
   "id": "221cdf40",
   "metadata": {},
   "source": [
    "### Comprobación y eliminación de la columnas"
   ]
  },
  {
   "cell_type": "code",
   "execution_count": 37,
   "id": "a57afe9e",
   "metadata": {},
   "outputs": [
    {
     "name": "stdout",
     "output_type": "stream",
     "text": [
      "['post_id', 'timestamp', 'day_of_week', 'platform', 'user_id', 'location', 'language', 'text_content', 'hashtags', 'mentions', 'keywords', 'topic_category', 'sentiment_score', 'sentiment_label', 'emotion_type', 'toxicity_score', 'likes_count', 'shares_count', 'comments_count', 'impressions', 'engagement_rate', 'brand_name', 'product_name', 'campaign_name', 'campaign_phase', 'user_past_sentiment_avg', 'user_engagement_growth', 'buzz_change_rate', 'city', 'country', 'reconstructed_engagement', 'engagement_diff']\n",
      "Cantidad de columnas: 32\n"
     ]
    }
   ],
   "source": [
    "print(df.columns.tolist())\n",
    "print(\"Cantidad de columnas:\", len(df.columns))\n"
   ]
  },
  {
   "cell_type": "code",
   "execution_count": 38,
   "id": "d9733b28",
   "metadata": {},
   "outputs": [],
   "source": [
    "# Eliminar columnas que ya no se necesitan\n",
    "df.drop(columns=['location', 'reconstructed_engagement', 'engagement_diff'], inplace=True)\n",
    "\n",
    "\n"
   ]
  },
  {
   "cell_type": "markdown",
   "id": "b61f455c",
   "metadata": {},
   "source": [
    "## Guardado del    **DataSet limpio**\n",
    "<hr style=\"border: none; height: 5px; background-color: #006666;\">"
   ]
  },
  {
   "cell_type": "code",
   "execution_count": 39,
   "id": "e476557b",
   "metadata": {},
   "outputs": [],
   "source": [
    "# Guardar el archivo limpio en formato CSV\n",
    "df.to_csv('clean_social_media_dataset.csv', index=False)"
   ]
  }
 ],
 "metadata": {
  "kernelspec": {
   "display_name": "Python 3",
   "language": "python",
   "name": "python3"
  },
  "language_info": {
   "codemirror_mode": {
    "name": "ipython",
    "version": 3
   },
   "file_extension": ".py",
   "mimetype": "text/x-python",
   "name": "python",
   "nbconvert_exporter": "python",
   "pygments_lexer": "ipython3",
   "version": "3.13.2"
  }
 },
 "nbformat": 4,
 "nbformat_minor": 5
}
